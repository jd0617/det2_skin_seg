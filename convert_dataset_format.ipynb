{
 "cells": [
  {
   "cell_type": "code",
   "execution_count": 1,
   "id": "ca452011",
   "metadata": {},
   "outputs": [
    {
     "name": "stdout",
     "output_type": "stream",
     "text": [
      "nvcc: NVIDIA (R) Cuda compiler driver\n",
      "Copyright (c) 2005-2024 NVIDIA Corporation\n",
      "Built on Tue_Oct_29_23:50:19_PDT_2024\n",
      "Cuda compilation tools, release 12.6, V12.6.85\n",
      "Build cuda_12.6.r12.6/compiler.35059454_0\n",
      "torch:  2.6 ; cuda:  df5bbc09d1.nv24.12\n",
      "detectron2: 0.6\n"
     ]
    }
   ],
   "source": [
    "import sys, os, distutils.core\n",
    "import torch, detectron2\n",
    "!nvcc --version\n",
    "TORCH_VERSION = \".\".join(torch.__version__.split(\".\")[:2])\n",
    "CUDA_VERSION = torch.__version__.split(\"+\")[-1]\n",
    "print(\"torch: \", TORCH_VERSION, \"; cuda: \", CUDA_VERSION)\n",
    "print(\"detectron2:\", detectron2.__version__)"
   ]
  },
  {
   "cell_type": "code",
   "execution_count": 14,
   "id": "fe7f233b",
   "metadata": {},
   "outputs": [
    {
     "data": {
      "text/plain": [
       "'4.10.0'"
      ]
     },
     "execution_count": 14,
     "metadata": {},
     "output_type": "execute_result"
    }
   ],
   "source": [
    "import cv2\n",
    "cv2.__version__"
   ]
  },
  {
   "cell_type": "code",
   "execution_count": 20,
   "id": "951f503d",
   "metadata": {},
   "outputs": [],
   "source": [
    "import random\n",
    "import os\n",
    "\n",
    "from pathlib import Path\n",
    "\n",
    "import cv2\n",
    "import numpy as np\n",
    "\n",
    "import torch\n",
    "import torchvision\n",
    "import matplotlib.pyplot as plt\n",
    "from torch.nn import functional as nnf\n",
    "from torch.utils.data import Dataset\n",
    "from sklearn.model_selection import KFold\n",
    "from tqdm import tqdm\n",
    "\n",
    "import json\n",
    "\n",
    "def load_json(file_path):\n",
    "    f = open(file_path)\n",
    "    json_file = json.load(f)\n",
    "    f.close()\n",
    "    \n",
    "    return json_file\n",
    "\n",
    "def save2json(dicts_list, target_path, mode=\"w\"):\n",
    "\n",
    "    print(\"Writing json file\" + \".\"*50)\n",
    "    with open(target_path, mode) as f:\n",
    "        json.dump(dicts_list, f, indent=2)\n",
    "\n",
    "    print(\"Done! Json was wrote to {}\".format(target_path))\n",
    "\n",
    "img_root = \"/workspace/datasets/seg_by_patient/preprocessed/pos_cropped_patch_all_r1_r2\"\n"
   ]
  },
  {
   "cell_type": "code",
   "execution_count": 21,
   "id": "d4b2d205",
   "metadata": {},
   "outputs": [],
   "source": [
    "def poly2box(coords, pad=0):\n",
    "\n",
    "    # for idx, coord in enumerate(coords):\n",
    "    xs = coords[:, 0]\n",
    "    ys = coords[:, 1]\n",
    "\n",
    "    tl = [np.min(xs) - pad, np.min(ys) - pad]\n",
    "    br = [np.max(xs) + pad, np.max(ys) + pad]\n",
    "\n",
    "    x_min, y_min = tl[0], tl[1]\n",
    "    x_max, y_max = br[0], br[1]\n",
    "\n",
    "    w = x_max - x_min\n",
    "    h = y_max - y_min\n",
    "\n",
    "    size = max(w, h)\n",
    "    cx = (x_min + x_max) / 2\n",
    "    cy = (y_min + y_max) / 2\n",
    "\n",
    "    half = size / 2\n",
    "    x1, y1 = int(cx - half), int(cy - half)\n",
    "    x2, y2 = int(cx + half), int(cy + half)\n",
    "\n",
    "    box = [\n",
    "        [x1, y1],\n",
    "        [x2, y1],\n",
    "        [x2, y2],\n",
    "        [x1, y2]\n",
    "    ]\n",
    "\n",
    "    return box"
   ]
  },
  {
   "cell_type": "code",
   "execution_count": 34,
   "id": "2d8baa27",
   "metadata": {},
   "outputs": [],
   "source": [
    "def convert2coco(anno_path, img_root, dst_path, clss, cls_dict, patn_id=True):\n",
    "\n",
    "    imgs = []\n",
    "    annos = []\n",
    "\n",
    "    img_idx = 0\n",
    "    cell_idx = 0\n",
    "\n",
    "    anno = load_json(anno_path)\n",
    "\n",
    "    for imgn, v in tqdm(anno.items()):\n",
    "\n",
    "        imgn = str(imgn)\n",
    "\n",
    "        imgp = os.path.join(img_root, imgn)\n",
    "\n",
    "        img = cv2.imread(imgp)\n",
    "\n",
    "        h, w, _ = img.shape\n",
    "\n",
    "        labels = v[\"labels\"]\n",
    "        points = v[\"points\"]\n",
    "\n",
    "        # img_id = imgn[:-4]\n",
    "\n",
    "        p_idx = imgn[:7]\n",
    "\n",
    "        c_imgs = {\n",
    "            \"id\": img_idx,\n",
    "            \"file_name\": imgn,\n",
    "            \"width\": w,\n",
    "            \"height\": h\n",
    "        }\n",
    "\n",
    "        if patn_id:\n",
    "            c_imgs[\"patient_id\"] = p_idx\n",
    "\n",
    "        imgs.append(c_imgs)\n",
    "\n",
    "        for label, point in zip(labels, points):\n",
    "\n",
    "            label = int(label)\n",
    "            point = np.array(point)\n",
    "\n",
    "            box = poly2box(point, 3)\n",
    "            \n",
    "            tl = box[0]\n",
    "            br = box[2]\n",
    "\n",
    "            bbox_h = br[-1] - tl[-1]\n",
    "            bbox_w = br[0] - tl[0]\n",
    "\n",
    "            c_annos = {\n",
    "                \"id\": cell_idx,\n",
    "                \"image_id\": img_idx,\n",
    "                \"category_id\": cls_dict[label][0],\n",
    "                \"segmentation\": [point.flatten().tolist()],\n",
    "                \"bbox\": [int(tl[0]), int(tl[1]), bbox_w, bbox_h],\n",
    "                \"is_crowd\": 0\n",
    "            }\n",
    "\n",
    "            if patn_id:\n",
    "                c_annos[\"patient_id\"] = p_idx\n",
    "\n",
    "            annos.append(c_annos)\n",
    "            cell_idx += 1\n",
    "\n",
    "        img_idx += 1\n",
    "        \n",
    "\n",
    "    coco_style_anno = {\n",
    "        \"images\": imgs,\n",
    "        \"annotations\": annos,\n",
    "        \"categories\": clss\n",
    "    }\n",
    "\n",
    "    save2json(coco_style_anno, dst_path)\n",
    "\n",
    "    return coco_style_anno"
   ]
  },
  {
   "cell_type": "code",
   "execution_count": 35,
   "id": "227dc9e2",
   "metadata": {},
   "outputs": [
    {
     "name": "stderr",
     "output_type": "stream",
     "text": [
      "100%|██████████| 183/183 [00:00<00:00, 274.18it/s]\n"
     ]
    },
    {
     "name": "stdout",
     "output_type": "stream",
     "text": [
      "Writing json file..................................................\n",
      "Done! Json was wrote to /workspace/datasets/seg_by_patient/anno/coco_format/all_complete_train.json\n"
     ]
    },
    {
     "name": "stderr",
     "output_type": "stream",
     "text": [
      "100%|██████████| 69/69 [00:00<00:00, 454.09it/s]\n"
     ]
    },
    {
     "name": "stdout",
     "output_type": "stream",
     "text": [
      "Writing json file..................................................\n",
      "Done! Json was wrote to /workspace/datasets/seg_by_patient/anno/coco_format/all_complete_test.json\n"
     ]
    },
    {
     "name": "stderr",
     "output_type": "stream",
     "text": [
      "100%|██████████| 274/274 [00:00<00:00, 349.80it/s]\n"
     ]
    },
    {
     "name": "stdout",
     "output_type": "stream",
     "text": [
      "Writing json file..................................................\n",
      "Done! Json was wrote to /workspace/datasets/seg_by_patient/anno/coco_format/all_complete_merge.json\n"
     ]
    }
   ],
   "source": [
    "\n",
    "clss = [\n",
    "    {\"id\":0, \"name\": \"level_0\"},\n",
    "    {\"id\":1, \"name\": \"level_1\"},\n",
    "    {\"id\":2, \"name\": \"level_2\"},\n",
    "    {\"id\":3, \"name\": \"level_3\"},\n",
    "    {\"id\":4, \"name\": \"level_4\"},\n",
    "]\n",
    "\n",
    "cls_dict = {\n",
    "    0: [0, \"level_0\"],\n",
    "    1: [1, \"level_1\"],\n",
    "    2: [2, \"level_2\"],\n",
    "    3: [3, \"level_3\"],\n",
    "    4: [4, \"level_4\"],\n",
    "}\n",
    "\n",
    "test_anno = \"/workspace/datasets/seg_by_patient/anno/all_complete_test.json\"\n",
    "train_anno = \"/workspace/datasets/seg_by_patient/anno/all_complete_train.json\"\n",
    "all_anno = \"/workspace/datasets/seg_by_patient/anno/all_complete_merge.json\"\n",
    "\n",
    "dst_root = \"/workspace/datasets/seg_by_patient/anno/coco_format\"\n",
    "train_dst = os.path.join(dst_root, \"all_complete_train.json\")\n",
    "test_dst = os.path.join(dst_root, \"all_complete_test.json\")\n",
    "all_dst = os.path.join(dst_root, \"all_complete_merge.json\")\n",
    "\n",
    "new_train_anno = convert2coco(train_anno, img_root, train_dst, clss, cls_dict)\n",
    "new_test_anno = convert2coco(test_anno, img_root, test_dst, clss, cls_dict)\n",
    "new_all_anno = convert2coco(all_anno, img_root, all_dst, clss, cls_dict)"
   ]
  },
  {
   "cell_type": "code",
   "execution_count": 19,
   "id": "f02602cb",
   "metadata": {},
   "outputs": [],
   "source": [
    "all_anno = \"/workspace/datasets/seg_by_patient/anno/all_complete_merge.json\"\n",
    "anno = load_json(all_anno)"
   ]
  },
  {
   "cell_type": "code",
   "execution_count": null,
   "id": "5ea0017e",
   "metadata": {},
   "outputs": [],
   "source": [
    "def pad_5_cell(img, val=0, img_size_5=(300, 1200), w_15=600):\n",
    "\n",
    "    h = img.shape[0]\n",
    "    w = img.shape[1]\n",
    "\n",
    "    c = min(img.shape)\n",
    "\n",
    "    assert_msg = f\"Expected img in shape {img_size_5}, received {img.shape}, please resize first.\"\n",
    "\n",
    "    assert w == img_size_5[0] and h == img_size_5[1], assert_msg\n",
    "\n",
    "    # value = [val for _ in range(c)]\n",
    "\n",
    "    pad_left = pad_right = (w_15-img_size_5[0])//2\n",
    "\n",
    "    padded_img = cv2.copyMakeBorder(\n",
    "        img, top=0, bottom=0, \n",
    "        left=pad_left, right=pad_right,\n",
    "        borderType=cv2.BORDER_CONSTANT,\n",
    "        value=val\n",
    "    )\n",
    "\n",
    "    return padded_img\n",
    "\n",
    "def polygon_centroid(polygon):\n",
    "    moments = cv2.moments(polygon)\n",
    "    cx = int(moments[\"m10\"] / moments[\"m00\"])\n",
    "    cy = int(moments[\"m01\"] / moments[\"m00\"])\n",
    "    return cx, cy\n",
    "\n",
    "def sort_15_cells(pnts, labels):\n",
    "    cxcy = []\n",
    "\n",
    "    for pol, label in zip(pnts, labels):\n",
    "        cx, cy = polygon_centroid(pol.astype(np.int32))\n",
    "        cxcy.append([cx, cy])\n",
    "\n",
    "    cxcy = np.array(cxcy)\n",
    "\n",
    "    cy = cxcy[:, 1]\n",
    "    cx = cxcy[:, 0]\n",
    "\n",
    "    most_right = max(cx)\n",
    "    most_left = min(cx)\n",
    "\n",
    "    w_range = most_right - most_left + 10\n",
    "\n",
    "    img_q = w_range // 3\n",
    "\n",
    "    center_cells = {}\n",
    "    left_cells = {}\n",
    "    right_cells = {}\n",
    "\n",
    "    for cxy, pol, label in zip(cxcy, pnts, labels):\n",
    "        cx, cy = cxy[0], cxy[1]\n",
    "\n",
    "        if cx-most_left < img_q:\n",
    "            left_cells[int(cy)] = (pol, label)\n",
    "        elif cx-most_left > img_q*2:\n",
    "            right_cells[int(cy)] = (pol, label)\n",
    "        else:\n",
    "            center_cells[int(cy)] = (pol, label)\n",
    "\n",
    "    center_cells = sorted(center_cells.items())\n",
    "    left_cells = sorted(left_cells.items())\n",
    "    right_cells = sorted(right_cells.items())\n",
    "\n",
    "    sorted_polygons = np.zeros((15, 4, 2))\n",
    "    sorted_labels = np.zeros((15))\n",
    "\n",
    "    sorted_polygons[:5, :, :] = np.array([i[1][0] for i in center_cells])\n",
    "    sorted_polygons[5:10, :, :] = np.array([i[1][0] for i in left_cells])\n",
    "    sorted_polygons[10:15, :, :] = np.array([i[1][0] for i in right_cells])\n",
    "\n",
    "    sorted_labels = [i[1][1] for i in center_cells] + [i[1][1] for i in right_cells] \n",
    "    sorted_labels += [i[1][1] for i in left_cells]\n",
    "    \n",
    "    return sorted_polygons, sorted_labels\n",
    "\n",
    "def mod_5_cell(img, pnts, target_size=(600, 1200)):\n",
    "\n",
    "    out = []\n",
    "\n",
    "    h, w, _ = img.shape\n",
    "\n",
    "    dx = (target_size[0] - w) / 2\n",
    "    dy = (target_size[1] - h) / 2\n",
    "\n",
    "    \n"
   ]
  },
  {
   "cell_type": "code",
   "execution_count": 93,
   "id": "cf56a259",
   "metadata": {},
   "outputs": [
    {
     "name": "stderr",
     "output_type": "stream",
     "text": [
      "100%|██████████| 274/274 [00:00<00:00, 315.07it/s]"
     ]
    },
    {
     "name": "stdout",
     "output_type": "stream",
     "text": [
      "Writing json file..................................................\n",
      "Done! Json was wrote to /workspace/datasets/seg_by_patient/anno/pre_all_complete_merge.json\n"
     ]
    },
    {
     "name": "stderr",
     "output_type": "stream",
     "text": [
      "\n"
     ]
    }
   ],
   "source": [
    "from tqdm import tqdm\n",
    "\n",
    "new_dst = Path(\"/workspace/datasets/skin_patch_img_dataset/pos_cropped_patch_all_r1_r2\")\n",
    "new_dst.mkdir(parents=True, exist_ok=True)\n",
    "\n",
    "new_pos_anno = {}\n",
    "\n",
    "img_size_5 = (300, 1200)\n",
    "img_size_15 = (600, 1200)\n",
    "\n",
    "for k, v in tqdm(anno.items()):\n",
    "    imgn = k\n",
    "    points = np.array(v[\"points\"])\n",
    "    label = v[\"labels\"]\n",
    "    img_path = Path(img_root) / imgn\n",
    "\n",
    "    img = cv2.imread(img_path)\n",
    "\n",
    "    nof_cell = 5 if int(imgn.split(\"-\")[1][0]) == 4 else 15\n",
    "\n",
    "    h, w, _ = img.shape\n",
    "\n",
    "    new_ps = np.zeros_like(points)\n",
    "\n",
    "    if nof_cell == 5:\n",
    "        img = cv2.resize(img, img_size_5)\n",
    "        img = pad_5_cell(img, 0, img_size_5, img_size_15[0])\n",
    "        sx = img_size_5[0] / w\n",
    "        sy = img_size_5[1] / h\n",
    "\n",
    "        # h, w, _ = img.shape\n",
    "\n",
    "        dx = (img_size_15[0] - img_size_5[0]) / 2\n",
    "        dy = (img_size_15[1] - img_size_5[1]) / 2\n",
    "\n",
    "        for idx, pnt in enumerate(points):\n",
    "            new_ps[idx, :, 0] = pnt[:, 0] * sx\n",
    "            new_ps[idx, :, 0] += dx\n",
    "\n",
    "            new_ps[idx, :, 1] = pnt[:, 1] * sy\n",
    "            new_ps[idx, :, 1] += dy\n",
    "\n",
    "    else:\n",
    "        img = cv2.resize(img, img_size_15)\n",
    "        sx = img_size_15[0] / w\n",
    "        sy = img_size_15[1] / h\n",
    "\n",
    "        points, label = sort_15_cells(points, label)\n",
    "\n",
    "        for idx, pnt in enumerate(points):\n",
    "            new_ps[idx, :, 0] = pnt[:, 0] * sx\n",
    "            new_ps[idx, :, 1] = pnt[:, 1] * sy\n",
    "\n",
    "    new_pos_anno[imgn] = {\n",
    "        \"labels\": label,\n",
    "        \"points\": new_ps.tolist()\n",
    "    }\n",
    "\n",
    "    img_dst = new_dst / imgn\n",
    "\n",
    "    cv2.imwrite(img_dst, img)\n",
    "    \n",
    "dst_anno = Path(\"/workspace/datasets/seg_by_patient/anno/pre_all_complete_merge.json\")\n",
    "save2json(new_pos_anno, dst_anno)"
   ]
  },
  {
   "cell_type": "code",
   "execution_count": 79,
   "id": "be50d94c",
   "metadata": {},
   "outputs": [],
   "source": [
    "from functools import partial\n",
    "\n",
    "def show_pnts_with_text(img, points, color=(255, 0, 0)):\n",
    "\n",
    "    font = cv2.FONT_HERSHEY_SIMPLEX\n",
    "    fontScale = 1.0\n",
    "    clr = (255, 0, 0)\n",
    "    thickness = 2\n",
    "\n",
    "    put_text = partial(cv2.putText, fontFace=font, fontScale=fontScale, color=clr, thickness=thickness)\n",
    "\n",
    "    cimg = img.copy()\n",
    "\n",
    "    radius = 1\n",
    "    \n",
    "    thickness = 10\n",
    "    draw_circle = partial(cv2.circle, radius=radius, color=color, thickness=thickness)\n",
    "\n",
    "    for idx, square in enumerate(points):\n",
    "        for pnt in square:\n",
    "            pnt = pnt.astype(np.int32)\n",
    "            draw_circle(cimg, pnt)\n",
    "        cimg = put_text(cimg, str(idx+1), pnt)\n",
    "\n",
    "    return cimg\n"
   ]
  },
  {
   "cell_type": "code",
   "execution_count": 94,
   "id": "18ac45ac",
   "metadata": {},
   "outputs": [
    {
     "data": {
      "text/plain": [
       "{'labels': ['0', '0', '0', '0', '0'],\n",
       " 'points': [[[261.8055597941081, 118.48341232227489],\n",
       "   [348.9969126383464, 109.70686058297542],\n",
       "   [351.3117345174154, 200.98296974507554],\n",
       "   [261.8055597941081, 209.759521484375]],\n",
       "  [[274.922841389974, 329.1205962122334],\n",
       "   [355.9413528442383, 329.1205962122334],\n",
       "   [359.0277735392253, 424.78498847563685],\n",
       "   [277.23765055338544, 428.2955802447423]],\n",
       "  [[278.00926208496094, 578.3745788284953],\n",
       "   [357.4845631917318, 567.8427456679502],\n",
       "   [359.7993850708008, 644.1987096415877],\n",
       "   [277.23765055338544, 651.2199510330273]],\n",
       "  [[265.66357930501306, 788.1341292394847],\n",
       "   [351.3117345174154, 787.2564379072868],\n",
       "   [355.9413528442383, 885.5538173874407],\n",
       "   [271.0648091634115, 882.9208590973045]],\n",
       "  [[262.57715861002606, 1016.3243298281991],\n",
       "   [350.54012298583984, 1011.936162433353],\n",
       "   [348.9969126383464, 1100.579226525474],\n",
       "   [267.97840118408203, 1104.9675096267772]]]}"
      ]
     },
     "execution_count": 94,
     "metadata": {},
     "output_type": "execute_result"
    }
   ],
   "source": [
    "ks = list(new_pos_anno.keys())\n",
    "\n",
    "imgn = ks[3]\n",
    "\n",
    "a1 = new_pos_anno[imgn]\n",
    "label = a1[\"labels\"]\n",
    "pnts = np.array(a1[\"points\"])\n",
    "\n",
    "# sorted_pnts, sorted_label = sort_15_cells(pnts, label)\n",
    "\n",
    "a1"
   ]
  },
  {
   "cell_type": "code",
   "execution_count": 89,
   "id": "c4f49f95",
   "metadata": {},
   "outputs": [
    {
     "data": {
      "text/plain": [
       "'raw1_01.D2(30m)-4.JPG'"
      ]
     },
     "execution_count": 89,
     "metadata": {},
     "output_type": "execute_result"
    }
   ],
   "source": [
    "imgn"
   ]
  },
  {
   "cell_type": "code",
   "execution_count": 95,
   "id": "51f850ac",
   "metadata": {},
   "outputs": [
    {
     "data": {
      "text/plain": [
       "<matplotlib.image.AxesImage at 0x7fedac6969c0>"
      ]
     },
     "execution_count": 95,
     "metadata": {},
     "output_type": "execute_result"
    },
    {
     "data": {
      "image/png": "[encoded data removed]",
      "text/plain": [
       "<Figure size 640x480 with 1 Axes>"
      ]
     },
     "metadata": {},
     "output_type": "display_data"
    }
   ],
   "source": [
    "img_path = new_dst / imgn\n",
    "\n",
    "img = cv2.imread(img_path)\n",
    "img = cv2.cvtColor(img, cv2.COLOR_BGR2RGB)\n",
    "img = cv2.resize(img, img_size_15)\n",
    "\n",
    "bbox_img = show_pnts_with_text(img, pnts)\n",
    "\n",
    "plt.imshow(bbox_img)"
   ]
  },
  {
   "cell_type": "code",
   "execution_count": 99,
   "id": "72c1d954",
   "metadata": {},
   "outputs": [
    {
     "name": "stdout",
     "output_type": "stream",
     "text": [
      "Train\n",
      "ori_train: 183\n",
      "pre_ac_train: 183\n",
      "Test\n",
      "ori_test: 69\n",
      "pre_ac_test: 69\n",
      "Writing json file..................................................\n",
      "Done! Json was wrote to /workspace/datasets/seg_by_patient/preprocessed/anno/pre_all_complete_train.json\n",
      "Writing json file..................................................\n",
      "Done! Json was wrote to /workspace/datasets/seg_by_patient/preprocessed/anno/pre_all_complete_test.json\n"
     ]
    }
   ],
   "source": [
    "ori_anno_root = Path(\"/workspace/datasets/seg_by_patient/anno\")\n",
    "\n",
    "ac_prefix = \"all_complete_\"\n",
    "ori_train_path = ori_anno_root / f\"{ac_prefix}train.json\"\n",
    "ori_test_path = ori_anno_root / f\"{ac_prefix}test.json\"\n",
    "\n",
    "ori_train = load_json(ori_train_path)\n",
    "ori_test = load_json(ori_test_path)\n",
    "\n",
    "pre_ac_anno_root = Path(\"/workspace/datasets/seg_by_patient/preprocessed/anno\")\n",
    "pre_ac_anno_path = pre_ac_anno_root / \"pre_all_complete_merge.json\"\n",
    "\n",
    "pre_ac_anno = load_json(pre_ac_anno_path)\n",
    "\n",
    "pre_ac_train = {k:pre_ac_anno[k] for k in ori_train}\n",
    "pre_ac_test = {k:pre_ac_anno[k] for k in ori_test}\n",
    "\n",
    "print(\"Train\")\n",
    "print(\"ori_train:\", len(ori_train))\n",
    "print(\"pre_ac_train:\", len(pre_ac_train))\n",
    "\n",
    "print(\"Test\")\n",
    "print(\"ori_test:\", len(ori_test))\n",
    "print(\"pre_ac_test:\", len(pre_ac_test))\n",
    "\n",
    "dst_pac_train = pre_ac_anno_root / \"pre_all_complete_train.json\"\n",
    "dst_pac_test = pre_ac_anno_root / \"pre_all_complete_test.json\"\n",
    "\n",
    "save2json(pre_ac_train, dst_pac_train)\n",
    "save2json(pre_ac_test, dst_pac_test)\n"
   ]
  },
  {
   "cell_type": "code",
   "execution_count": 38,
   "id": "07dbdfe9",
   "metadata": {},
   "outputs": [
    {
     "name": "stderr",
     "output_type": "stream",
     "text": [
      "100%|██████████| 183/183 [00:00<00:00, 287.04it/s]\n"
     ]
    },
    {
     "name": "stdout",
     "output_type": "stream",
     "text": [
      "Writing json file..................................................\n",
      "Done! Json was wrote to /workspace/datasets/seg_by_patient/preprocessed/anno/coco_format/pre_all_complete_train.json\n"
     ]
    },
    {
     "name": "stderr",
     "output_type": "stream",
     "text": [
      "100%|██████████| 69/69 [00:00<00:00, 494.56it/s]\n"
     ]
    },
    {
     "name": "stdout",
     "output_type": "stream",
     "text": [
      "Writing json file..................................................\n",
      "Done! Json was wrote to /workspace/datasets/seg_by_patient/preprocessed/anno/coco_format/pre_all_complete_test.json\n"
     ]
    },
    {
     "name": "stderr",
     "output_type": "stream",
     "text": [
      "100%|██████████| 274/274 [00:00<00:00, 474.41it/s]"
     ]
    },
    {
     "name": "stdout",
     "output_type": "stream",
     "text": [
      "Writing json file..................................................\n",
      "Done! Json was wrote to /workspace/datasets/seg_by_patient/preprocessed/anno/coco_format/pre_all_complete_merge.json\n"
     ]
    },
    {
     "name": "stderr",
     "output_type": "stream",
     "text": [
      "\n"
     ]
    }
   ],
   "source": [
    "clss = [\n",
    "    {\"id\":0, \"name\": \"level_0\"},\n",
    "    {\"id\":1, \"name\": \"level_1\"},\n",
    "    {\"id\":2, \"name\": \"level_2\"},\n",
    "    {\"id\":3, \"name\": \"level_3\"},\n",
    "    {\"id\":4, \"name\": \"level_4\"},\n",
    "]\n",
    "\n",
    "cls_dict = {\n",
    "    0: [0, \"level_0\"],\n",
    "    1: [1, \"level_1\"],\n",
    "    2: [2, \"level_2\"],\n",
    "    3: [3, \"level_3\"],\n",
    "    4: [4, \"level_4\"],\n",
    "}\n",
    "\n",
    "pre_ac_root = Path(\"/workspace/datasets/seg_by_patient/preprocessed/anno\")\n",
    "pre_ac_train = pre_ac_root / \"pre_all_complete_train.json\"\n",
    "pre_ac_test = pre_ac_root / \"pre_all_complete_test.json\"\n",
    "pre_ac_all = pre_ac_root / \"pre_all_complete_merge.json\"\n",
    "\n",
    "coco_dst_all = coco_dst / \"all_complete_merge.json\"\n",
    "coco_dst = Path(\"/workspace/datasets/seg_by_patient/preprocessed/anno/coco_format\")\n",
    "coco_dst_train = coco_dst / \"pre_all_complete_train.json\"\n",
    "coco_dst_test = coco_dst / \"pre_all_complete_test.json\"\n",
    "coco_dst_all = coco_dst / \"pre_all_complete_merge.json\"\n",
    "\n",
    "img_root = \"/workspace/datasets/seg_by_patient/preprocessed/pos_cropped_patch_all_r1_r2\"\n",
    "# img_root = \"/workspace/datasets/skin_patch_img_dataset/cropped_patch_all_r1_r2\"\n",
    "\n",
    "\n",
    "coco_train_anno = convert2coco(pre_ac_train, img_root, coco_dst_train, clss, cls_dict)\n",
    "coco_test_anno = convert2coco(pre_ac_test, img_root, coco_dst_test, clss, cls_dict)\n",
    "coco_all_anno = convert2coco(pre_ac_all, img_root, coco_dst_all, clss, cls_dict)\n"
   ]
  },
  {
   "cell_type": "code",
   "execution_count": 33,
   "id": "e77e1b23",
   "metadata": {},
   "outputs": [
    {
     "name": "stderr",
     "output_type": "stream",
     "text": [
      "\n",
      "Category ids in annotations are not in [1, #categories]! We'll apply a mapping for you.\n",
      "\n",
      "\n",
      "Category ids in annotations are not in [1, #categories]! We'll apply a mapping for you.\n",
      "\n"
     ]
    },
    {
     "name": "stderr",
     "output_type": "stream",
     "text": [
      "\n",
      "Category ids in annotations are not in [1, #categories]! We'll apply a mapping for you.\n",
      "\n"
     ]
    },
    {
     "name": "stdout",
     "output_type": "stream",
     "text": [
      "{'file_name': '/workspace/datasets/skin_patch_img_dataset/cropped_patch_all_r1_r2/raw1_01.D2(30m)-1.JPG', 'height': 1236, 'width': 594, 'image_id': 0, 'annotations': [{'bbox': [103, 105, 110, 110], 'category_id': 0, 'segmentation': [[106.25926208496094, 115.68518829345703, 207.1851806640625, 115.68518829345703, 210.88888549804688, 202.72222900390625, 109.96295928955078, 205.5]], 'bbox_mode': <BoxMode.XYWH_ABS: 1>}, {'bbox': [282, 25, 92, 91], 'category_id': 0, 'segmentation': [[290.5185241699219, 32.35185241699219, 371.0740661621094, 32.35185241699219, 371.0740661621094, 108.27777862548828, 285.8888854980469, 110.12963104248047]], 'bbox_mode': <BoxMode.XYWH_ABS: 1>}, {'bbox': [431, 116, 91, 90], 'category_id': 0, 'segmentation': [[444.22222900390625, 119.38888549804688, 514.5925903320312, 124.01851654052734, 514.5925903320312, 203.6481475830078, 439.59259033203125, 192.5370330810547]], 'bbox_mode': <BoxMode.XYWH_ABS: 1>}, {'bbox': [420, 331, 104, 104], 'category_id': 0, 'segmentation': [[430.3333435058594, 334.2037048339844, 512.74072265625, 338.8333435058594, 514.5925903320312, 429.5740661621094, 434.96295166015625, 432.3518371582031]], 'bbox_mode': <BoxMode.XYWH_ABS: 1>}, {'bbox': [412, 570, 117, 116], 'category_id': 0, 'segmentation': [[430.3333435058594, 573.0925903320312, 511.8148193359375, 575.870361328125, 510.8888854980469, 675.870361328125, 430.3333435058594, 683.2777709960938]], 'bbox_mode': <BoxMode.XYWH_ABS: 1>}, {'bbox': [264, 485, 99, 99], 'category_id': 0, 'segmentation': [[273.8518371582031, 494.3888854980469, 354.40740966796875, 488.8333435058594, 350.7037048339844, 575.870361328125, 277.5555419921875, 581.4259033203125]], 'bbox_mode': <BoxMode.XYWH_ABS: 1>}, {'bbox': [272, 241, 97, 97], 'category_id': 0, 'segmentation': [[282.1851806640625, 244.38888549804688, 361.8148193359375, 249.94444274902344, 355.3333435058594, 335.129638671875, 280.3333435058594, 329.5740661621094]], 'bbox_mode': <BoxMode.XYWH_ABS: 1>}, {'bbox': [93, 334, 107, 108], 'category_id': 0, 'segmentation': [[100.70370483398438, 342.53704833984375, 194.22222900390625, 337.90740966796875, 194.22222900390625, 439.7592468261719, 99.77777862548828, 437.90740966796875]], 'bbox_mode': <BoxMode.XYWH_ABS: 1>}, {'bbox': [80, 582, 111, 111], 'category_id': 0, 'segmentation': [[86.81481170654297, 585.129638671875, 184.9629669189453, 585.129638671875, 183.11111450195312, 687.9074096679688, 89.59259033203125, 690.6851806640625]], 'bbox_mode': <BoxMode.XYWH_ABS: 1>}, {'bbox': [71, 826, 110, 110], 'category_id': 0, 'segmentation': [[80.33333587646484, 829.5740966796875, 175.70370483398438, 838.8333129882812, 167.37037658691406, 933.2777709960938, 76.62963104248047, 926.7963256835938]], 'bbox_mode': <BoxMode.XYWH_ABS: 1>}, {'bbox': [76, 1052, 105, 105], 'category_id': 0, 'segmentation': [[88.66666412353516, 1055.5, 174.77777099609375, 1074.0185546875, 164.59259033203125, 1154.5740966796875, 84.03704071044922, 1139.75927734375]], 'bbox_mode': <BoxMode.XYWH_ABS: 1>}, {'bbox': [242, 716, 115, 116], 'category_id': 0, 'segmentation': [[245.1481475830078, 724.9444580078125, 354.40740966796875, 728.6481323242188, 348.8518371582031, 824.0184936523438, 245.1481475830078, 820.3148193359375]], 'bbox_mode': <BoxMode.XYWH_ABS: 1>}, {'bbox': [249, 964, 105, 106], 'category_id': 0, 'segmentation': [[252.55555725097656, 975.870361328125, 348.8518371582031, 968.4629516601562, 351.629638671875, 1058.27783203125, 252.55555725097656, 1066.611083984375]], 'bbox_mode': <BoxMode.XYWH_ABS: 1>}, {'bbox': [408, 823, 104, 104], 'category_id': 0, 'segmentation': [[414.59259033203125, 830.5, 505.3333435058594, 826.7963256835938, 507.1851806640625, 916.611083984375, 415.5185241699219, 924.9444580078125]], 'bbox_mode': <BoxMode.XYWH_ABS: 1>}, {'bbox': [397, 1053, 105, 105], 'category_id': 0, 'segmentation': [[403.4814758300781, 1067.5369873046875, 497.9259338378906, 1056.4259033203125, 491.4444580078125, 1144.388916015625, 402.5555419921875, 1155.5]], 'bbox_mode': <BoxMode.XYWH_ABS: 1>}]}\n"
     ]
    }
   ],
   "source": [
    "from detectron2.data.datasets import register_coco_instances\n",
    "from detectron2.data import DatasetCatalog, MetadataCatalog\n",
    "\n",
    "# coco_anno_root = \"/workspace/datasets/seg_by_patient/preprocessed/anno/coco_format/\"\n",
    "# all_anno = os.path.join(coco_anno_root, \"pre_all_complete_merge.json\")\n",
    "# train_anno = os.path.join(coco_anno_root, \"pre_all_complete_train.json\")\n",
    "# test_anno = os.path.join(coco_anno_root, \"pre_all_complete_test.json\")\n",
    "\n",
    "coco_anno_root = \"/workspace/datasets/seg_by_patient/anno/coco_format/\"\n",
    "all_anno = os.path.join(coco_anno_root, \"all_complete_merge.json\")\n",
    "train_anno = os.path.join(coco_anno_root, \"all_complete_train.json\")\n",
    "test_anno = os.path.join(coco_anno_root, \"all_complete_test.json\")\n",
    "\n",
    "# from detectron2.data import DatasetCatalog, MetadataCatalog\n",
    "\n",
    "# train_dicts = DatasetCatalog.get(\"train_ds\")\n",
    "\n",
    "# print(train_dicts[0])\n",
    "\n",
    "DatasetCatalog.remove(\"train_ds\")\n",
    "MetadataCatalog.remove(\"train_ds\")\n",
    "\n",
    "DatasetCatalog.remove(\"test_ds\")\n",
    "MetadataCatalog.remove(\"test_ds\")\n",
    "\n",
    "DatasetCatalog.remove(\"all_ds\")\n",
    "MetadataCatalog.remove(\"all_ds\")\n",
    "\n",
    "register_coco_instances(\"train_ds\", {}, train_anno, img_root)\n",
    "register_coco_instances(\"test_ds\", {}, test_anno, img_root)\n",
    "register_coco_instances(\"all_ds\", {}, all_anno, img_root)\n",
    "\n",
    "# register_coco_instances(\"train_ds\", {}, str(coco_dst_train), img_root)\n",
    "# register_coco_instances(\"test_ds\", {}, str(coco_dst_test), img_root)\n",
    "# register_coco_instances(\"all_ds\", {}, str(coco_dst_all), img_root)\n",
    "\n",
    "train_dicts = DatasetCatalog.get(\"train_ds\")\n",
    "test_dicts = DatasetCatalog.get(\"test_ds\")\n",
    "all_dicts = DatasetCatalog.get(\"all_ds\")\n",
    "\n",
    "\n",
    "print(train_dicts[0])"
   ]
  },
  {
   "cell_type": "code",
   "execution_count": 8,
   "id": "9e040253",
   "metadata": {},
   "outputs": [
    {
     "name": "stdout",
     "output_type": "stream",
     "text": [
      "Images: 274  Annotations: 3360\n",
      "Orphan annotations: 5\n",
      "  ann_id: 3355  image_id: 274  → filename: <missing image>\n",
      "  ann_id: 3356  image_id: 274  → filename: <missing image>\n",
      "  ann_id: 3357  image_id: 274  → filename: <missing image>\n",
      "  ann_id: 3358  image_id: 274  → filename: <missing image>\n",
      "  ann_id: 3359  image_id: 274  → filename: <missing image>\n"
     ]
    }
   ],
   "source": [
    "import json, os\n",
    "from collections import Counter\n",
    "\n",
    "JSON_PATH = all_anno\n",
    "IM_ROOT   = img_root  # optional, for existence checks\n",
    "\n",
    "def to_int(x):\n",
    "    # Coerce \"123\" -> 123; leave int as-is\n",
    "    if isinstance(x, str) and x.isdigit():\n",
    "        return int(x)\n",
    "    if isinstance(x, (int,)):\n",
    "        return x\n",
    "    # try best-effort conversion\n",
    "    try:\n",
    "        return int(x)\n",
    "    except Exception:\n",
    "        return x\n",
    "\n",
    "with open(JSON_PATH, \"r\") as f:\n",
    "    coco = json.load(f)\n",
    "\n",
    "images = coco.get(\"images\", [])\n",
    "anns   = coco.get(\"annotations\", [])\n",
    "cats   = coco.get(\"categories\", [])\n",
    "\n",
    "# Build maps\n",
    "img_id_to_file = {}\n",
    "img_ids = []\n",
    "for im in images:\n",
    "    iid = to_int(im[\"id\"])\n",
    "    img_id_to_file[iid] = im.get(\"file_name\", f\"<no filename for id {iid}>\")\n",
    "    img_ids.append(iid)\n",
    "\n",
    "img_id_set = set(img_ids)\n",
    "\n",
    "# 1) List duplicate image ids (also a common cause)\n",
    "dups = [k for k,v in Counter(img_ids).items() if v>1]\n",
    "if dups:\n",
    "    print(\"❌ Duplicate image ids:\", dups)\n",
    "\n",
    "# 2) Find orphans\n",
    "orphans = []\n",
    "bad_type = []\n",
    "for a in anns:\n",
    "    ann_id = a.get(\"id\", \"<no ann id>\")\n",
    "    iid_raw = a.get(\"image_id\")\n",
    "    iid = to_int(iid_raw)\n",
    "    if not isinstance(iid, int):\n",
    "        bad_type.append((ann_id, iid_raw))\n",
    "        continue\n",
    "    if iid not in img_id_set:\n",
    "        orphans.append((ann_id, iid, img_id_to_file.get(iid, \"<missing image>\")))\n",
    "\n",
    "print(f\"Images: {len(images)}  Annotations: {len(anns)}\")\n",
    "print(f\"Orphan annotations: {len(orphans)}\")\n",
    "if orphans:\n",
    "    # show a few\n",
    "    for tup in orphans[:20]:\n",
    "        print(\"  ann_id:\", tup[0], \" image_id:\", tup[1], \" → filename:\", tup[2])\n",
    "\n",
    "if bad_type:\n",
    "    print(\"\\n⚠️ Non-numeric image_id found (type mismatch). First few:\")\n",
    "    for ann_id, raw in bad_type[:10]:\n",
    "        print(\"  ann_id:\", ann_id, \" image_id(raw):\", raw, \" type:\", type(raw))\n",
    "\n",
    "# 3) Optional: check files exist on disk\n",
    "missing_files = [fn for fn in img_id_to_file.values()\n",
    "                 if fn and IM_ROOT and not os.path.exists(os.path.join(IM_ROOT, fn))]\n",
    "if missing_files:\n",
    "    print(\"\\n⚠️ Missing files on disk (first few):\")\n",
    "    for fn in missing_files[:20]:\n",
    "        print(\" \", fn)\n"
   ]
  },
  {
   "cell_type": "code",
   "execution_count": 12,
   "id": "a99ddb81",
   "metadata": {},
   "outputs": [],
   "source": [
    "aa = load_json(all_anno)\n",
    "\n",
    "imgs = aa[\"images\"]\n",
    "anns = aa[\"annotations\"]"
   ]
  },
  {
   "cell_type": "code",
   "execution_count": 13,
   "id": "ec5fb131",
   "metadata": {},
   "outputs": [
    {
     "data": {
      "text/plain": [
       "{'id': 3355,\n",
       " 'image_id': 274,\n",
       " 'category_id': 1,\n",
       " 'segmentation': [[109.21428680419922,\n",
       "   94.44642639160156,\n",
       "   252.9642791748047,\n",
       "   90.875,\n",
       "   254.75,\n",
       "   198.01785278320312,\n",
       "   110.10713958740234,\n",
       "   199.80357360839844]],\n",
       " 'bbox': [106, 69, 151, 152],\n",
       " 'is_crowd': 0}"
      ]
     },
     "execution_count": 13,
     "metadata": {},
     "output_type": "execute_result"
    }
   ],
   "source": [
    "anns[3355]"
   ]
  },
  {
   "cell_type": "code",
   "execution_count": 14,
   "id": "8aefa505",
   "metadata": {},
   "outputs": [
    {
     "data": {
      "text/plain": [
       "274"
      ]
     },
     "execution_count": 14,
     "metadata": {},
     "output_type": "execute_result"
    }
   ],
   "source": [
    "len(imgs)"
   ]
  },
  {
   "cell_type": "code",
   "execution_count": 15,
   "id": "6bf820e2",
   "metadata": {},
   "outputs": [
    {
     "data": {
      "text/plain": [
       "{'id': 273, 'file_name': 'raw2_33.D2(30m)-4.JPG', 'width': 372, 'height': 1188}"
      ]
     },
     "execution_count": 15,
     "metadata": {},
     "output_type": "execute_result"
    }
   ],
   "source": [
    "imgs[-1]"
   ]
  },
  {
   "cell_type": "code",
   "execution_count": null,
   "id": "cd14193a",
   "metadata": {},
   "outputs": [],
   "source": []
  }
 ],
 "metadata": {
  "kernelspec": {
   "display_name": "Python 3",
   "language": "python",
   "name": "python3"
  },
  "language_info": {
   "codemirror_mode": {
    "name": "ipython",
    "version": 3
   },
   "file_extension": ".py",
   "mimetype": "text/x-python",
   "name": "python",
   "nbconvert_exporter": "python",
   "pygments_lexer": "ipython3",
   "version": "3.12.3"
  }
 },
 "nbformat": 4,
 "nbformat_minor": 5
}
